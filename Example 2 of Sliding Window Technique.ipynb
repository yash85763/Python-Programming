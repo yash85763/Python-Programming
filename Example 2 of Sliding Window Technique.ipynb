{
 "cells": [
  {
   "cell_type": "markdown",
   "metadata": {},
   "source": [
    "# EXAMPLE 2 of SLIDING WINDOW TECHNIQUE\n",
    "\n",
    "## Max Consicutive Ones III\n",
    "\n",
    "Given a binary array `nums` and an integer `k`, return the maximum number of consecutive `1's` in the array if you can flip at most `k` `0's`.\n",
    "\n",
    " \n",
    "\n",
    "#### Example 1:\n",
    "\n",
    "* **Input**: nums = [1,1,1,0,0,0,1,1,1,1,0], k = 2\n",
    "* **Output**: 6\n",
    "* **Explanation**: [1,1,1,0,0,<ins>__1__,1,1,1,1,__1__</ins>]\n",
    "* Bolded numbers were flipped from 0 to 1. The longest subarray is underlined.\n",
    "\n",
    "#### Example 2:\n",
    "\n",
    "* Input: nums = [0,0,1,1,0,0,1,1,1,0,1,1,0,0,0,1,1,1,1], k = 3\n",
    "* Output: 10\n",
    "* Explanation: [0,0,<ins>1,1,__1__,__1__,1,1,1,__1__,1,1</ins>,0,0,0,1,1,1,1]\n",
    "* Bolded numbers were flipped from 0 to 1. The longest subarray is underlined.\n",
    "\n",
    " \n",
    "\n",
    "Constraints:\n",
    "\n",
    "* 1 $\\le$ nums.length $\\le$ $10^{5}$\n",
    "* nums[i] is either 0 or 1.\n",
    "* 0 $\\le$ k $\\le$ nums.length\n",
    "\n"
   ]
  },
  {
   "cell_type": "markdown",
   "metadata": {},
   "source": [
    "#### Hint 1:"
   ]
  },
  {
   "cell_type": "markdown",
   "metadata": {},
   "source": [
    "One thing's for sure, we will only flip a `zero` if it extends an existing window of 1s. Otherwise, there's no point in doing it, right? Think Sliding Window!"
   ]
  },
  {
   "cell_type": "markdown",
   "metadata": {},
   "source": [
    "#### Hint 2:"
   ]
  },
  {
   "cell_type": "markdown",
   "metadata": {},
   "source": [
    "Since we know this problem can be solved using the sliding window construct, we might as well focus in that direction for hints. Basically, in a given window, we can never have `> K zeros`, right?"
   ]
  },
  {
   "cell_type": "markdown",
   "metadata": {},
   "source": [
    "#### Hint 3:"
   ]
  },
  {
   "cell_type": "markdown",
   "metadata": {},
   "source": [
    "We don't have a fixed size window in this case. The window size can grow and shrink depending upon the number of `zeros` we have (we don't actually have to flip the `zeros` here!)."
   ]
  },
  {
   "cell_type": "markdown",
   "metadata": {},
   "source": [
    "#### Hint 4:"
   ]
  },
  {
   "cell_type": "markdown",
   "metadata": {},
   "source": [
    "The way to shrink or expand a window would be based on the number of zeros that can still be flipped and so on."
   ]
  },
  {
   "cell_type": "markdown",
   "metadata": {},
   "source": [
    "#### Code:"
   ]
  },
  {
   "cell_type": "code",
   "execution_count": null,
   "metadata": {},
   "outputs": [],
   "source": [
    "class Solution:\n",
    "    def longestOnes(self, nums: List[int], k: int) -> int:\n",
    "        left = curr = ans = 0\n",
    "        for right in range(len(nums)):\n",
    "            if nums[right] == 0:\n",
    "                curr += 1\n",
    "            while curr > k:\n",
    "                if nums[left] == 0:\n",
    "                    curr -= 1\n",
    "                left += 1\n",
    "            ans = max(ans, right - left + 1)\n",
    "        return ans"
   ]
  }
 ],
 "metadata": {
  "language_info": {
   "name": "python"
  },
  "orig_nbformat": 4
 },
 "nbformat": 4,
 "nbformat_minor": 2
}
