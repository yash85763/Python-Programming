{
 "cells": [
  {
   "cell_type": "markdown",
   "metadata": {},
   "source": [
    "# Example 1 of Prefix Sum\n",
    "\n",
    "## Running Sum of 1d Array\n",
    "\n",
    "Given an array `nums`. We define a running sum of an array as `runningSum[i] = sum(nums[0]…nums[i])`.\n",
    "\n",
    "Return the running `sum` of nums.\n",
    "\n",
    " \n",
    "\n",
    "Example 1:\n",
    "\n",
    "* Input: nums = [1,2,3,4]\n",
    "* Output: [1,3,6,10]\n",
    "* Explanation: Running sum is obtained as follows: [1, 1+2, 1+2+3, 1+2+3+4].\n",
    "\n",
    "Example 2:\n",
    "\n",
    "* Input: nums = [1,1,1,1,1]\n",
    "* Output: [1,2,3,4,5]\n",
    "* Explanation: Running sum is obtained as follows: [1, 1+1, 1+1+1, 1+1+1+1, 1+1+1+1+1].\n",
    "\n",
    "Example 3:\n",
    "\n",
    "* Input: nums = [3,1,2,10,1]\n",
    "* Output: [3,4,6,16,17]\n",
    "\n",
    " \n",
    "\n",
    "**Constraints:**\n",
    "\n",
    "* 1 $\\le$ nums.length $\\le$ 1000\n",
    "* $-10^{6}$ $\\le$ nums[i] $\\le$ $10^{6}$\n",
    "\n"
   ]
  },
  {
   "cell_type": "markdown",
   "metadata": {},
   "source": [
    "### Hint 1:"
   ]
  },
  {
   "cell_type": "markdown",
   "metadata": {},
   "source": [
    "Think about how we can calculate the $i^{th}$ number in the running sum from the $(i-1)^{th}$ number."
   ]
  },
  {
   "cell_type": "markdown",
   "metadata": {},
   "source": [
    "### Code:"
   ]
  },
  {
   "cell_type": "code",
   "execution_count": null,
   "metadata": {},
   "outputs": [],
   "source": [
    "class Solution:\n",
    "    def runningSum(self, nums: List[int]) -> List[int]:\n",
    "        sums = [nums[0]]\n",
    "        for i in range(1, len(nums)):\n",
    "            sums.append(nums[i] + sums[-1])\n",
    "            \n",
    "        return sums"
   ]
  }
 ],
 "metadata": {
  "language_info": {
   "name": "python"
  },
  "orig_nbformat": 4
 },
 "nbformat": 4,
 "nbformat_minor": 2
}
