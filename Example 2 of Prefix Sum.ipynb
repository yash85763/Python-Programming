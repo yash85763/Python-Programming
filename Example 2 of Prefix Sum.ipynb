{
 "cells": [
  {
   "cell_type": "markdown",
   "metadata": {},
   "source": [
    "# Example 2 of Prefix Sum Technique\n",
    "\n",
    "## Minimum Value to Get Positive Step by Step Sum\n",
    "\n",
    "Given an array of integers `nums`, you start with an initial **positive** value *startValue*.\n",
    "\n",
    "In each iteration, you calculate the step by step sum of *startValue* plus elements in `nums` (from left to right).\n",
    "\n",
    "Return the minimum **positive** value of *startValue* such that the step by step sum is never less than 1.\n",
    "\n",
    " \n",
    "\n",
    "Example 1:\n",
    "\n",
    "* Input: nums = [-3,2,-3,4,2]\n",
    "* Output: 5\n",
    "* Explanation: If you choose startValue = 4, in the third iteration your step by step sum is less than 1.\n",
    "\n",
    "step by step sum\n",
    "<pre>\n",
    "startValue = 4| startValue = 5 | nums  \n",
    "(4 - 3 ) = 1  | (5 - 3 ) = 2    |  -3\n",
    "(1 + 2 ) = 3  | (2 + 2 ) = 4    |   2\n",
    "(3 - 3 ) = 0  | (4 - 3 ) = 1    |  -3\n",
    "(0 + 4 ) = 4  | (1 + 4 ) = 5    |   4\n",
    "(4 + 2 ) = 6  | (5 + 2 ) = 7    |   2\n",
    "</pre>\n",
    "\n",
    "Example 2:\n",
    "\n",
    "* Input: nums = [1,2]\n",
    "* Output: 1\n",
    "* Explanation: Minimum start value should be positive. \n",
    "\n",
    "Example 3:\n",
    "\n",
    "* Input: nums = [1,-2,-3]\n",
    "* Output: 5\n",
    "\n",
    " \n",
    "\n",
    "Constraints:\n",
    "\n",
    "* 1 $\\le$ nums.length $\\le$ 100\n",
    "* -100 $\\le$ nums[i] $\\le$ 100\n",
    "\n"
   ]
  },
  {
   "cell_type": "markdown",
   "metadata": {},
   "source": [
    "#### Hint:"
   ]
  },
  {
   "cell_type": "markdown",
   "metadata": {},
   "source": [
    "Find the minimum prefix sum."
   ]
  },
  {
   "cell_type": "markdown",
   "metadata": {},
   "source": [
    "#### Code:"
   ]
  },
  {
   "cell_type": "code",
   "execution_count": null,
   "metadata": {},
   "outputs": [],
   "source": [
    "class Solution:\n",
    "    def minStartValue(self, nums: List[int]) -> int:\n",
    "        prefix = [nums[0]]\n",
    "        for i in range(1, len(nums)):\n",
    "            prefix.append(nums[i]+prefix[-1])\n",
    "        if min(prefix) < 1:\n",
    "            return abs(min(prefix)) + 1\n",
    "        else:\n",
    "            return 1"
   ]
  }
 ],
 "metadata": {
  "language_info": {
   "name": "python"
  },
  "orig_nbformat": 4
 },
 "nbformat": 4,
 "nbformat_minor": 2
}
