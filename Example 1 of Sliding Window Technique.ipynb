{
 "cells": [
  {
   "cell_type": "markdown",
   "metadata": {},
   "source": [
    "# EXAMPLE 1 of SLIDING WINDOW TECHNIQUE\n",
    "\n",
    "## Maximum Average Subarray 1\n",
    "\n",
    "You are given an integer array `nums` consisting of `n` elements, and an integer `k`.\n",
    "\n",
    "Find a contiguous subarray whose **length is equal to** `k` that has the maximum average value and return this value. Any answer with a calculation error less than $10^{-5}$ will be accepted.\n"
   ]
  },
  {
   "cell_type": "markdown",
   "metadata": {},
   "source": [
    "### Example 1\n",
    "\n",
    "* **Input**: nums = [1,12,-5,-6,50,3], k = 4\n",
    "* **Output**: 12.75000\n",
    "* **Explanation**: Maximum average is (12 - 5 - 6 + 50) / 4 = 51 / 4 = 12.75\n",
    "\n",
    "\n",
    "\n",
    "### Example 2\n",
    "\n",
    "* **Input**: nums = [5], k = 1\n",
    "* **Output**: 5.00000\n",
    "\n",
    "##### **Constraints**:\n",
    "\n",
    "* n == nums.length\n",
    "* 1 $\\le$ k $\\le$ n $\\le$ $10^{5}$\n",
    "* -$10^{4}$ $\\le$ nums[i] $\\le$ $10^{4}$\n"
   ]
  },
  {
   "cell_type": "code",
   "execution_count": null,
   "metadata": {},
   "outputs": [],
   "source": [
    "class Solution:\n",
    "    def findMaxAverage(self, nums: List[int], k: int) -> float:\n",
    "            curr = 0\n",
    "            for i in range(k):\n",
    "                curr += nums[i]\n",
    "                ans = curr\n",
    "            for i in range(k, len(nums)):\n",
    "                curr += nums[i] - nums[i-k]\n",
    "                ans = max(ans, curr)\n",
    "                \n",
    "            return ans/k\n"
   ]
  },
  {
   "cell_type": "markdown",
   "metadata": {},
   "source": []
  }
 ],
 "metadata": {
  "language_info": {
   "name": "python"
  },
  "orig_nbformat": 4
 },
 "nbformat": 4,
 "nbformat_minor": 2
}
